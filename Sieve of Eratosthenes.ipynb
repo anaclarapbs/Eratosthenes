{
 "cells": [
  {
   "cell_type": "markdown",
   "metadata": {},
   "source": [
    "# Sieve of Eratosthenes - solution ACS"
   ]
  },
  {
   "cell_type": "code",
   "execution_count": 1,
   "metadata": {},
   "outputs": [],
   "source": [
    "# vector with all numbers from 2 to a limit defined by the user:\n",
    "sup_lim=1000 # we can change this value if we want prime numbers until another limit\n",
    "numbers = list(range(2,sup_lim+1))\n",
    "\n",
    "# initialize n\n",
    "n=2\n",
    "\n",
    "# run sieve\n",
    "while n < numbers[-1]:   \n",
    "    numbers = [x for x in numbers if x == n or x % n != 0]\n",
    "    indexn = numbers.index(n)\n",
    "    n=numbers[indexn+1]\n",
    "    "
   ]
  },
  {
   "cell_type": "code",
   "execution_count": null,
   "metadata": {},
   "outputs": [],
   "source": []
  }
 ],
 "metadata": {
  "kernelspec": {
   "display_name": "Python 3",
   "language": "python",
   "name": "python3"
  },
  "language_info": {
   "codemirror_mode": {
    "name": "ipython",
    "version": 3
   },
   "file_extension": ".py",
   "mimetype": "text/x-python",
   "name": "python",
   "nbconvert_exporter": "python",
   "pygments_lexer": "ipython3",
   "version": "3.7.6"
  }
 },
 "nbformat": 4,
 "nbformat_minor": 4
}
